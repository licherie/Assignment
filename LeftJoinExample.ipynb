{
 "cells": [
  {
   "cell_type": "markdown",
   "metadata": {},
   "source": [
    "Our goal for this code is to left join the dataset of corporations since 1800 to the dataset of minority run businesses on the column Vendor_Formal_Name (the name of the business). \n",
    "Both datasets can be found here: \n",
    "\n",
    "https://data.ny.gov/Economic-Development/Active-Corporations-Beginning-1800/n9v6-gdp6/data\n",
    "\n",
    "https://data.cityofnewyork.us/Business/M-WBE-LBE-and-EBE-Certified-Business-List/ci93-uc8s/data"
   ]
  },
  {
   "cell_type": "code",
   "execution_count": 1,
   "metadata": {},
   "outputs": [],
   "source": [
    "import pandas as pd\n",
    "import sqlite3\n",
    "import sqlalchemy\n",
    "from sqlalchemy import inspect\n",
    "import re\n",
    "import datetime as dt"
   ]
  },
  {
   "cell_type": "markdown",
   "metadata": {},
   "source": [
    "Let's initialize database with filename myDB in current directory"
   ]
  },
  {
   "cell_type": "code",
   "execution_count": 2,
   "metadata": {},
   "outputs": [],
   "source": [
    "engine = sqlalchemy.create_engine('sqlite:///myDB.db')"
   ]
  },
  {
   "cell_type": "markdown",
   "metadata": {},
   "source": [
    "Now let's upload our CSV in chunks (necessary since it is 2.8 million rows). First, define chunksize and indexes (so we don't overwrite the rows we just uploaded)"
   ]
  },
  {
   "cell_type": "code",
   "execution_count": 4,
   "metadata": {},
   "outputs": [],
   "source": [
    "chunksize = 100000\n",
    "j= 1\n",
    "i = 0"
   ]
  },
  {
   "cell_type": "markdown",
   "metadata": {},
   "source": [
    "Now we can load into the database. "
   ]
  },
  {
   "cell_type": "code",
   "execution_count": 5,
   "metadata": {},
   "outputs": [
    {
     "name": "stdout",
     "output_type": "stream",
     "text": [
      "0 seconds: completed 100000 rows\n",
      "10 seconds: completed 200000 rows\n",
      "19 seconds: completed 300000 rows\n",
      "29 seconds: completed 400000 rows\n",
      "39 seconds: completed 500000 rows\n",
      "48 seconds: completed 600000 rows\n",
      "58 seconds: completed 700000 rows\n",
      "68 seconds: completed 800000 rows\n",
      "79 seconds: completed 900000 rows\n",
      "90 seconds: completed 1000000 rows\n",
      "107 seconds: completed 1100000 rows\n",
      "119 seconds: completed 1200000 rows\n",
      "129 seconds: completed 1300000 rows\n",
      "141 seconds: completed 1400000 rows\n",
      "154 seconds: completed 1500000 rows\n",
      "165 seconds: completed 1600000 rows\n",
      "176 seconds: completed 1700000 rows\n",
      "187 seconds: completed 1800000 rows\n",
      "197 seconds: completed 1900000 rows\n",
      "207 seconds: completed 2000000 rows\n",
      "217 seconds: completed 2100000 rows\n",
      "226 seconds: completed 2200000 rows\n",
      "235 seconds: completed 2300000 rows\n",
      "244 seconds: completed 2400000 rows\n",
      "253 seconds: completed 2500000 rows\n",
      "262 seconds: completed 2600000 rows\n",
      "271 seconds: completed 2700000 rows\n",
      "280 seconds: completed 2800000 rows\n"
     ]
    }
   ],
   "source": [
    "start = dt.datetime.now()\n",
    "for df in pd.read_csv(\"C://Users//SEAB//Downloads//Active_Corporations___Beginning_1800.csv\", chunksize = chunksize, iterator = True):\n",
    "\tdf = df.rename(columns={c:c.replace(' ', '')  for c in df.columns})\n",
    "\tdf.index +=j\n",
    "\t#notice that i is index for testing, in case you want to print which chunk you are at \n",
    "\ti+=1\n",
    "\tprint('{} seconds: completed {} rows'.format((dt.datetime.now() - start).seconds, i*chunksize))\n",
    "\t#activeCo will be the name of your table\n",
    "\tdf.to_sql('activeCo', engine, if_exists = 'append')\n",
    "\t#df.index is a range of the rows, so with df.index[-1], we are going to the last row number and adding 1\n",
    "\tj= df.index[-1] + 1"
   ]
  },
  {
   "cell_type": "markdown",
   "metadata": {},
   "source": [
    "Now let's start our connection so we can begin making queries "
   ]
  },
  {
   "cell_type": "code",
   "execution_count": 6,
   "metadata": {},
   "outputs": [],
   "source": [
    "conn = sqlite3.connect('myDB.db')\n",
    "cur = conn.cursor()"
   ]
  },
  {
   "cell_type": "markdown",
   "metadata": {},
   "source": [
    "Let's do some preprocessing of the data in order to improve our match rate"
   ]
  },
  {
   "cell_type": "markdown",
   "metadata": {},
   "source": [
    "First, let's define a column that is CurrentEntityName but stripped of all spaces and punctuation. To this end, we will first define a function to strip spaces and punctuation. "
   ]
  },
  {
   "cell_type": "code",
   "execution_count": 8,
   "metadata": {},
   "outputs": [],
   "source": [
    "def cleanWord(word):\n",
    "\tremoveThe = re.sub(r\"The \",\"\",word)\n",
    "\tcleaned = re.sub(r\"(?i)\\band\\b|\\bor\\b|\\bthe\\b|\\bof\\b\", \"\", removeThe)\n",
    "\tmyStrippedName = re.sub(r\"[.?!'-+&/, ]\", \"\", cleaned)\n",
    "\treturn myStrippedName\n",
    "\n",
    "conn.create_function(\"cleanWord\", 1, cleanWord)"
   ]
  },
  {
   "cell_type": "markdown",
   "metadata": {},
   "source": [
    "Let's check our function: "
   ]
  },
  {
   "cell_type": "code",
   "execution_count": 10,
   "metadata": {},
   "outputs": [
    {
     "data": {
      "text/plain": [
       "[('00:02:59LLC',), ('000LLC',), ('000MEADOWLANELLC',)]"
      ]
     },
     "execution_count": 10,
     "metadata": {},
     "output_type": "execute_result"
    }
   ],
   "source": [
    "sql  ='SELECT cleanWord(CurrentEntityName) FROM activeCo AS Test LIMIT 3'\n",
    "result = cur.execute(sql)\n",
    "result.fetchall()"
   ]
  },
  {
   "cell_type": "markdown",
   "metadata": {},
   "source": [
    "Great, so it works as a function. Now, let's check that a column \"CleanedEntityName\" does not exist yet. "
   ]
  },
  {
   "cell_type": "code",
   "execution_count": 15,
   "metadata": {},
   "outputs": [
    {
     "data": {
      "text/plain": [
       "['index',\n",
       " 'DOSID',\n",
       " 'CurrentEntityName',\n",
       " 'InitialDOSFilingDate',\n",
       " 'County',\n",
       " 'Jurisdiction',\n",
       " 'EntityType',\n",
       " 'DOSProcessName',\n",
       " 'DOSProcessAddress1',\n",
       " 'DOSProcessAddress2',\n",
       " 'DOSProcessCity',\n",
       " 'DOSProcessState',\n",
       " 'DOSProcessZip',\n",
       " 'CEOName',\n",
       " 'CEOAddress1',\n",
       " 'CEOAddress2',\n",
       " 'CEOCity',\n",
       " 'CEOState',\n",
       " 'CEOZip',\n",
       " 'RegisteredAgentName',\n",
       " 'RegisteredAgentAddress1',\n",
       " 'RegisteredAgentAddress2',\n",
       " 'RegisteredAgentCity',\n",
       " 'RegisteredAgentState',\n",
       " 'RegisteredAgentZip',\n",
       " 'LocationName',\n",
       " 'LocationAddress1',\n",
       " 'LocationAddress2',\n",
       " 'LocationCity',\n",
       " 'LocationState',\n",
       " 'LocationZip']"
      ]
     },
     "execution_count": 15,
     "metadata": {},
     "output_type": "execute_result"
    }
   ],
   "source": [
    "result = conn.execute('SELECT * FROM activeCo LIMIT 1')\n",
    "names = list(map(lambda x: x[0], result.description))\n",
    "names"
   ]
  },
  {
   "cell_type": "markdown",
   "metadata": {},
   "source": [
    "So it doesn't exist yet. Let's create our column now. "
   ]
  },
  {
   "cell_type": "code",
   "execution_count": 16,
   "metadata": {},
   "outputs": [
    {
     "data": {
      "text/plain": [
       "<sqlite3.Cursor at 0xa9985e0>"
      ]
     },
     "execution_count": 16,
     "metadata": {},
     "output_type": "execute_result"
    }
   ],
   "source": [
    "sql = 'ALTER TABLE activeCo ADD COLUMN CleanedEntityName TEXT;'\n",
    "cur.execute(sql)\n",
    "sql = 'UPDATE activeCo SET CleanedEntityName = cleanWord(CurrentEntityName)'\n",
    "cur.execute(sql)"
   ]
  },
  {
   "cell_type": "markdown",
   "metadata": {},
   "source": [
    "Let's create an index on this new column. *NOTE* We have to use index otherwise this query will be unbearably slow. "
   ]
  },
  {
   "cell_type": "code",
   "execution_count": 17,
   "metadata": {},
   "outputs": [
    {
     "data": {
      "text/plain": [
       "<sqlite3.Cursor at 0xa9985e0>"
      ]
     },
     "execution_count": 17,
     "metadata": {},
     "output_type": "execute_result"
    }
   ],
   "source": [
    "sql = 'CREATE INDEX CleanedEntityIdx ON activeCo(CleanedEntityName COLLATE NOCASE)'\n",
    "cur.execute(sql)"
   ]
  },
  {
   "cell_type": "markdown",
   "metadata": {},
   "source": [
    "Now let's test that the index is being used. "
   ]
  },
  {
   "cell_type": "code",
   "execution_count": 18,
   "metadata": {},
   "outputs": [
    {
     "data": {
      "text/plain": [
       "[(3,\n",
       "  0,\n",
       "  0,\n",
       "  'SEARCH TABLE activeCo USING INDEX CleanedEntityIdx (CleanedEntityName>? AND CleanedEntityName<?)')]"
      ]
     },
     "execution_count": 18,
     "metadata": {},
     "output_type": "execute_result"
    }
   ],
   "source": [
    "params = ('Alpha%',)\n",
    "sql = 'EXPLAIN QUERY PLAN SELECT * FROM activeCo WHERE CleanedEntityName LIKE ?;'\n",
    "cur.execute(sql, params)\n",
    "cur.fetchall()"
   ]
  },
  {
   "cell_type": "markdown",
   "metadata": {},
   "source": [
    "Great, so our index is working. Now let's read in our other dataset. "
   ]
  },
  {
   "cell_type": "code",
   "execution_count": 19,
   "metadata": {},
   "outputs": [],
   "source": [
    "my_df = pd.read_csv(\"C://Users//SEAB//Downloads//M_WBE__LBE__and_EBE_Certified_Business_List.csv\")\n",
    "numberRows = my_df.shape[0]"
   ]
  },
  {
   "cell_type": "markdown",
   "metadata": {},
   "source": [
    "Let's read in some suffixes that we'd like to drop and create a new list of business names based off this. "
   ]
  },
  {
   "cell_type": "code",
   "execution_count": 20,
   "metadata": {},
   "outputs": [],
   "source": [
    "my_list= ['LLC', 'CORP',\n",
    "          'INC', 'CORPORATION',\n",
    "          'PLLC', 'PC',\n",
    "          'LLP', 'CO', 'COMPANY', 'LTD']\n",
    "myNames = [None]*numberRows\n",
    "\n",
    "for index, row in my_df.iterrows():\n",
    "        temp1= row['Vendor_Formal_Name'].rsplit(',', 1)\n",
    "        temp2 = row['Vendor_Formal_Name'].rsplit(' ',1)\n",
    "        if len(temp1) > 1 and re.sub(r\"[,.?!'-+&/ ]\", \"\", temp1[1]).upper() in my_list:\n",
    "                myNames[index] = temp1[0]\n",
    "        elif len(temp2) > 1 and re.sub(r\"[,.?!'-+&/ ]\", \"\", temp2[1]).upper() in my_list:\n",
    "                        myNames[index] = temp2[0]\n",
    "        else:\n",
    "                myNames[index]=row['Vendor_Formal_Name']"
   ]
  },
  {
   "cell_type": "markdown",
   "metadata": {},
   "source": [
    "Now let's get our query results. This should take less than a minute. "
   ]
  },
  {
   "cell_type": "code",
   "execution_count": 21,
   "metadata": {},
   "outputs": [
    {
     "name": "stdout",
     "output_type": "stream",
     "text": [
      "2 seconds: completed getting query results\n"
     ]
    }
   ],
   "source": [
    "myresponses= [None]*numberRows\n",
    "start = dt.datetime.now()\n",
    "for index, name in enumerate(myNames):\n",
    "        sql = 'SELECT * from activeCo WHERE CleanedEntityName LIKE ?;'\n",
    "        cleanName = cleanWord(name)\n",
    "        params =(cleanName + '%',)\n",
    "        response = cur.execute(sql, params)\n",
    "        tables = response.fetchall()\n",
    "        myresponses[index] = tables\n",
    "print('{} seconds: completed getting query results'.format((dt.datetime.now() - start).seconds))\n"
   ]
  },
  {
   "cell_type": "markdown",
   "metadata": {},
   "source": [
    "Let's see how percentage of nonempty results we got: "
   ]
  },
  {
   "cell_type": "code",
   "execution_count": 25,
   "metadata": {},
   "outputs": [
    {
     "data": {
      "text/plain": [
       "'87.31236989153062%'"
      ]
     },
     "execution_count": 25,
     "metadata": {},
     "output_type": "execute_result"
    }
   ],
   "source": [
    "str(((numberRows - myresponses.count([]))/numberRows)*100) + '%'"
   ]
  },
  {
   "cell_type": "markdown",
   "metadata": {},
   "source": [
    "It's okay. We can do better perhaps with some more sophisticated searching methods but we also have to consider the tradeoff between complexity and completeness. "
   ]
  },
  {
   "cell_type": "markdown",
   "metadata": {},
   "source": [
    "Let's get our column names again so we can write to dataframe"
   ]
  },
  {
   "cell_type": "code",
   "execution_count": 26,
   "metadata": {},
   "outputs": [],
   "source": [
    "result = conn.execute('SELECT * FROM activeCo LIMIT 1')\n",
    "names = list(map(lambda x: x[0], result.description))\n",
    "numberColumns = len(names)"
   ]
  },
  {
   "cell_type": "markdown",
   "metadata": {},
   "source": [
    "Now let's create new list of tuples for conversion to dataframe "
   ]
  },
  {
   "cell_type": "code",
   "execution_count": 27,
   "metadata": {},
   "outputs": [],
   "source": [
    "myNewResponses = [response[0] if response != [] else tuple([None]*numberColumns) for response in myresponses]\n",
    "new_df = pd.DataFrame(myNewResponses, columns = names)\n",
    "temp = pd.concat([my_df, new_df], axis = 1)\n",
    "temp = temp.drop(['CleanedEntityName'], axis = 1)\n",
    "cols = temp.columns.tolist()"
   ]
  },
  {
   "cell_type": "markdown",
   "metadata": {},
   "source": [
    "Finally, let's move CurrentEntityName to the front of table in order for more convenient comparison between matched values. "
   ]
  },
  {
   "cell_type": "code",
   "execution_count": 29,
   "metadata": {},
   "outputs": [],
   "source": [
    "cols.insert(0, cols.pop(cols.index('CurrentEntityName')))\n",
    "final_df = temp.reindex(columns = cols)\n",
    "final_df.to_csv(\"MyJoinedData.csv\")"
   ]
  },
  {
   "cell_type": "code",
   "execution_count": 30,
   "metadata": {},
   "outputs": [
    {
     "data": {
      "text/html": [
       "<div>\n",
       "<style scoped>\n",
       "    .dataframe tbody tr th:only-of-type {\n",
       "        vertical-align: middle;\n",
       "    }\n",
       "\n",
       "    .dataframe tbody tr th {\n",
       "        vertical-align: top;\n",
       "    }\n",
       "\n",
       "    .dataframe thead th {\n",
       "        text-align: right;\n",
       "    }\n",
       "</style>\n",
       "<table border=\"1\" class=\"dataframe\">\n",
       "  <thead>\n",
       "    <tr style=\"text-align: right;\">\n",
       "      <th></th>\n",
       "      <th>CurrentEntityName</th>\n",
       "      <th>Vendor_Formal_Name</th>\n",
       "      <th>Vendor_DBA</th>\n",
       "      <th>Contact_Name</th>\n",
       "      <th>telephone</th>\n",
       "      <th>fax</th>\n",
       "      <th>Email</th>\n",
       "      <th>certification</th>\n",
       "      <th>Cert_Renewal_Date</th>\n",
       "      <th>Ethnicity</th>\n",
       "      <th>...</th>\n",
       "      <th>RegisteredAgentAddress2</th>\n",
       "      <th>RegisteredAgentCity</th>\n",
       "      <th>RegisteredAgentState</th>\n",
       "      <th>RegisteredAgentZip</th>\n",
       "      <th>LocationName</th>\n",
       "      <th>LocationAddress1</th>\n",
       "      <th>LocationAddress2</th>\n",
       "      <th>LocationCity</th>\n",
       "      <th>LocationState</th>\n",
       "      <th>LocationZip</th>\n",
       "    </tr>\n",
       "  </thead>\n",
       "  <tbody>\n",
       "    <tr>\n",
       "      <th>0</th>\n",
       "      <td>BRYCE CONSTRUCTION CORPORATION</td>\n",
       "      <td>Bryce Construction Corp.</td>\n",
       "      <td>NaN</td>\n",
       "      <td>Patrick Nwokeji</td>\n",
       "      <td>6465235353</td>\n",
       "      <td>9736786112</td>\n",
       "      <td>bryce.constructioncorp@gmail.com</td>\n",
       "      <td>MBE</td>\n",
       "      <td>06/30/2024</td>\n",
       "      <td>BLACK</td>\n",
       "      <td>...</td>\n",
       "      <td>None</td>\n",
       "      <td>None</td>\n",
       "      <td>None</td>\n",
       "      <td>None</td>\n",
       "      <td>BRYCE CONSTRUCTION CORPORATION</td>\n",
       "      <td>450 EAST HAINES ST</td>\n",
       "      <td>None</td>\n",
       "      <td>PHILADELPHIA</td>\n",
       "      <td>PENNSYLVANIA</td>\n",
       "      <td>19144</td>\n",
       "    </tr>\n",
       "    <tr>\n",
       "      <th>1</th>\n",
       "      <td>ICOMMERCIALIZE LLC</td>\n",
       "      <td>iCommercialize LLC</td>\n",
       "      <td>NaN</td>\n",
       "      <td>Beth Hirschhorn</td>\n",
       "      <td>9177348658</td>\n",
       "      <td>NaN</td>\n",
       "      <td>beth.hirschhorn@icommercialize.co</td>\n",
       "      <td>WBE</td>\n",
       "      <td>NaN</td>\n",
       "      <td>NON-MINORITY</td>\n",
       "      <td>...</td>\n",
       "      <td>None</td>\n",
       "      <td>None</td>\n",
       "      <td>None</td>\n",
       "      <td>None</td>\n",
       "      <td>None</td>\n",
       "      <td>None</td>\n",
       "      <td>None</td>\n",
       "      <td>None</td>\n",
       "      <td>None</td>\n",
       "      <td>None</td>\n",
       "    </tr>\n",
       "    <tr>\n",
       "      <th>2</th>\n",
       "      <td>SLICE WIRELESS SOLUTIONS LLC</td>\n",
       "      <td>Slice Wireless Solutions LLC</td>\n",
       "      <td>NaN</td>\n",
       "      <td>Aleksandr Yakubov</td>\n",
       "      <td>2128686900</td>\n",
       "      <td>6464488238</td>\n",
       "      <td>NaN</td>\n",
       "      <td>WBE</td>\n",
       "      <td>NaN</td>\n",
       "      <td>NON-MINORITY</td>\n",
       "      <td>...</td>\n",
       "      <td>None</td>\n",
       "      <td>None</td>\n",
       "      <td>None</td>\n",
       "      <td>None</td>\n",
       "      <td>None</td>\n",
       "      <td>None</td>\n",
       "      <td>None</td>\n",
       "      <td>None</td>\n",
       "      <td>None</td>\n",
       "      <td>None</td>\n",
       "    </tr>\n",
       "    <tr>\n",
       "      <th>3</th>\n",
       "      <td>ALPHA AND OMEGA CONSULTING GROUP INC.</td>\n",
       "      <td>Alpha and Omega Consulting Group, Inc</td>\n",
       "      <td>NaN</td>\n",
       "      <td>Cinque Braithwaite</td>\n",
       "      <td>9172840028</td>\n",
       "      <td>NaN</td>\n",
       "      <td>mpericles1@yahoo.com</td>\n",
       "      <td>MBE,WBE</td>\n",
       "      <td>02/27/2020;02/27/2020</td>\n",
       "      <td>BLACK</td>\n",
       "      <td>...</td>\n",
       "      <td>None</td>\n",
       "      <td>CAMBRIA HEIGHTS</td>\n",
       "      <td>NEW YORK</td>\n",
       "      <td>11411</td>\n",
       "      <td>None</td>\n",
       "      <td>None</td>\n",
       "      <td>None</td>\n",
       "      <td>None</td>\n",
       "      <td>None</td>\n",
       "      <td>None</td>\n",
       "    </tr>\n",
       "    <tr>\n",
       "      <th>4</th>\n",
       "      <td>BAY RIDGE SECURITY SERVICE, INC.</td>\n",
       "      <td>Bay Ridge Security Service Inc.</td>\n",
       "      <td>NaN</td>\n",
       "      <td>Anthony La Bella</td>\n",
       "      <td>7182382727</td>\n",
       "      <td>7188363474</td>\n",
       "      <td>nl@bayridgesecurity.com</td>\n",
       "      <td>WBE</td>\n",
       "      <td>NaN</td>\n",
       "      <td>NON-MINORITY</td>\n",
       "      <td>...</td>\n",
       "      <td>None</td>\n",
       "      <td>None</td>\n",
       "      <td>None</td>\n",
       "      <td>None</td>\n",
       "      <td>BAY RIDGE SECURITY SERVICE, INC.</td>\n",
       "      <td>110 BAY RIDGE AVENUE</td>\n",
       "      <td>None</td>\n",
       "      <td>BROOKLYN</td>\n",
       "      <td>NEW YORK</td>\n",
       "      <td>11220</td>\n",
       "    </tr>\n",
       "  </tbody>\n",
       "</table>\n",
       "<p>5 rows × 77 columns</p>\n",
       "</div>"
      ],
      "text/plain": [
       "                       CurrentEntityName  \\\n",
       "0         BRYCE CONSTRUCTION CORPORATION   \n",
       "1                     ICOMMERCIALIZE LLC   \n",
       "2           SLICE WIRELESS SOLUTIONS LLC   \n",
       "3  ALPHA AND OMEGA CONSULTING GROUP INC.   \n",
       "4       BAY RIDGE SECURITY SERVICE, INC.   \n",
       "\n",
       "                      Vendor_Formal_Name Vendor_DBA        Contact_Name  \\\n",
       "0               Bryce Construction Corp.        NaN     Patrick Nwokeji   \n",
       "1                     iCommercialize LLC        NaN     Beth Hirschhorn   \n",
       "2           Slice Wireless Solutions LLC        NaN   Aleksandr Yakubov   \n",
       "3  Alpha and Omega Consulting Group, Inc        NaN  Cinque Braithwaite   \n",
       "4        Bay Ridge Security Service Inc.        NaN    Anthony La Bella   \n",
       "\n",
       "    telephone         fax                              Email certification  \\\n",
       "0  6465235353  9736786112   bryce.constructioncorp@gmail.com           MBE   \n",
       "1  9177348658         NaN  beth.hirschhorn@icommercialize.co           WBE   \n",
       "2  2128686900  6464488238                                NaN           WBE   \n",
       "3  9172840028         NaN               mpericles1@yahoo.com       MBE,WBE   \n",
       "4  7182382727  7188363474            nl@bayridgesecurity.com           WBE   \n",
       "\n",
       "       Cert_Renewal_Date     Ethnicity  ... RegisteredAgentAddress2  \\\n",
       "0             06/30/2024         BLACK  ...                    None   \n",
       "1                    NaN  NON-MINORITY  ...                    None   \n",
       "2                    NaN  NON-MINORITY  ...                    None   \n",
       "3  02/27/2020;02/27/2020         BLACK  ...                    None   \n",
       "4                    NaN  NON-MINORITY  ...                    None   \n",
       "\n",
       "  RegisteredAgentCity RegisteredAgentState RegisteredAgentZip  \\\n",
       "0                None                 None               None   \n",
       "1                None                 None               None   \n",
       "2                None                 None               None   \n",
       "3     CAMBRIA HEIGHTS             NEW YORK              11411   \n",
       "4                None                 None               None   \n",
       "\n",
       "                       LocationName      LocationAddress1  LocationAddress2  \\\n",
       "0    BRYCE CONSTRUCTION CORPORATION    450 EAST HAINES ST              None   \n",
       "1                              None                  None              None   \n",
       "2                              None                  None              None   \n",
       "3                              None                  None              None   \n",
       "4  BAY RIDGE SECURITY SERVICE, INC.  110 BAY RIDGE AVENUE              None   \n",
       "\n",
       "   LocationCity  LocationState  LocationZip  \n",
       "0  PHILADELPHIA   PENNSYLVANIA        19144  \n",
       "1          None           None         None  \n",
       "2          None           None         None  \n",
       "3          None           None         None  \n",
       "4      BROOKLYN       NEW YORK        11220  \n",
       "\n",
       "[5 rows x 77 columns]"
      ]
     },
     "execution_count": 30,
     "metadata": {},
     "output_type": "execute_result"
    }
   ],
   "source": [
    "final_df.head()"
   ]
  }
 ],
 "metadata": {
  "kernelspec": {
   "display_name": "Python 3",
   "language": "python",
   "name": "python3"
  },
  "language_info": {
   "codemirror_mode": {
    "name": "ipython",
    "version": 3
   },
   "file_extension": ".py",
   "mimetype": "text/x-python",
   "name": "python",
   "nbconvert_exporter": "python",
   "pygments_lexer": "ipython3",
   "version": "3.7.4"
  }
 },
 "nbformat": 4,
 "nbformat_minor": 2
}
